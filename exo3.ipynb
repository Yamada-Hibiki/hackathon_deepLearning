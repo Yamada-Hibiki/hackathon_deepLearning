{
  "cells": [
    {
      "cell_type": "markdown",
      "metadata": {
        "id": "pemE-Kgdatv3"
      },
      "source": [
        "\n",
        "[![Open In Colab](https://colab.research.google.com/assets/colab-badge.svg)](https://colab.research.google.com/github/EffiSciencesResearch/hackathon42/blob/main/starting_pack_hackathon42.ipynb)\n"
      ]
    },
    {
      "cell_type": "code",
      "execution_count": 16,
      "metadata": {
        "colab": {
          "base_uri": "https://localhost:8080/"
        },
        "id": "NEN5BQhKatwD",
        "outputId": "7aa547fb-2f2c-4b83-f742-aebb0a15b17f"
      },
      "outputs": [
        {
          "output_type": "stream",
          "name": "stdout",
          "text": [
            "Updated git hooks.\n",
            "Git LFS initialized.\n",
            "Cloning into 'hackathon42'...\n",
            "remote: Enumerating objects: 626, done.\u001b[K\n",
            "remote: Counting objects: 100% (89/89), done.\u001b[K\n",
            "remote: Compressing objects: 100% (78/78), done.\u001b[K\n",
            "remote: Total 626 (delta 15), reused 80 (delta 10), pack-reused 537\u001b[K\n",
            "Receiving objects: 100% (626/626), 2.40 MiB | 16.73 MiB/s, done.\n",
            "Resolving deltas: 100% (124/124), done.\n",
            "tcmalloc: large alloc 1471086592 bytes == 0x55cad749a000 @  0x7f053af6e2a4 0x55ca9b19511f 0x55ca9b17225b 0x55ca9b126f33 0x55ca9b0cb22a 0x55ca9b0cb6e6 0x55ca9b0e8451 0x55ca9b0e89e9 0x55ca9b0e8f13 0x55ca9b18de12 0x55ca9b02f162 0x55ca9b015a65 0x55ca9b016725 0x55ca9b01572a 0x7f053a2b5c87 0x55ca9b01577a\n",
            "tcmalloc: large alloc 1471086592 bytes == 0x55cad749a000 @  0x7f053af6e2a4 0x55ca9b19511f 0x55ca9b17225b 0x55ca9b126f33 0x55ca9b0cb22a 0x55ca9b0cb6e6 0x55ca9b0e8451 0x55ca9b0e89e9 0x55ca9b0e8f13 0x55ca9b18de12 0x55ca9b02f162 0x55ca9b015a65 0x55ca9b016725 0x55ca9b01572a 0x7f053a2b5c87 0x55ca9b01577a\n",
            "Filtering content: 100% (106/106), 5.37 GiB | 45.89 MiB/s, done.\n"
          ]
        }
      ],
      "source": [
        "#@title Télécharger des données qui sont sur Github \n",
        "\n",
        "# Il faudrait installer git large file system avant de cloner\n",
        "!git lfs install\n",
        "!git clone https://github.com/EffiSciencesResearch/hackathon42.git"
      ]
    },
    {
      "cell_type": "code",
      "execution_count": 22,
      "metadata": {
        "id": "TrK3SPgUatwK",
        "colab": {
          "base_uri": "https://localhost:8080/"
        },
        "outputId": "ba6da35a-1609-4260-bbfe-f56ac4a6d57b"
      },
      "outputs": [
        {
          "output_type": "stream",
          "name": "stdout",
          "text": [
            "/content/hackathon42\n",
            "{0: '00_toy_dataset', 1: '01_mnist_cc', 2: '02_mnist_constant_image', 3: '03_mnist_constant_image_random_row', 4: '04_mnist_uniform_color_random_row', 5: '05_mnist_uniform_color_low_mix_rate', 6: '06_mnist_sum', 8: '08_mnist_sum_noise_level', 12: '12_mnist_mysterious', 13: '13_mnist_mysterious', 23: '23_mnist_embed', 456: '456_mnist_embed', 888: '888_vehicle_animal', 999: '999_humans'}\n",
            "datasets/03_mnist_constant_image_random_row\n"
          ]
        }
      ],
      "source": [
        "#@title On choisi le dataset sur lequel on travaiile\n",
        "# Création de traing dataset et test dataset\n",
        "\n",
        "%cd /content/hackathon42\n",
        "\n",
        "import numpy as np\n",
        "from tqdm.notebook import tqdm\n",
        "import os\n",
        "from os.path import join\n",
        "from sklearn.model_selection import train_test_split\n",
        "import torch\n",
        "import torch.nn as nn\n",
        "import torch.nn.functional as F\n",
        "\n",
        "use_cuda = False\n",
        "device = torch.device(\"cuda\" if use_cuda else \"cpu\")\n",
        "\n",
        "datasets_names = sorted(os.listdir(path='datasets'), key=lambda name: int(name[:2]))\n",
        "datasets_names = {int(datasets_name.split(\"_\")[0]): datasets_name for datasets_name in datasets_names}\n",
        "print(datasets_names)\n",
        "\n",
        "# You can choose the dataset here by modifying the brackets\n",
        "dataset_name = join('datasets', datasets_names[3])\n",
        "# assert \"01_mnist_cc\" not in dataset_name, \"This colab is destined for MNIST, and not for the other datasets. The code needs to be adapted :) \"\n",
        "print(dataset_name)\n",
        "\n",
        "X_labeled = np.load(join(dataset_name, \"X_labeled.npy\"))\n",
        "y_labeled = np.load(join(dataset_name, \"y_labeled.npy\"))\n",
        "X_unlabeled = np.load(join(dataset_name, \"X_unlabeled.npy\"))\n",
        "X_val = np.load(join(dataset_name, \"X_val.npy\"))\n",
        "\n",
        "\n",
        "X_train, X_test, y_train, y_test = train_test_split(X_labeled, y_labeled)\n",
        "\n",
        "\n",
        "X_train = torch.tensor(X_train, device=device).float()\n",
        "X_test = torch.tensor(X_test, device=device).float()\n",
        "y_train = torch.tensor(y_train, device=device)\n",
        "y_test = torch.tensor(y_test, device=device)\n",
        "\n",
        "# On s'intéresse à quoi cela resemble X_val\n",
        "# for i in range(10):\n",
        "#     plt.imshow(X_val[i, 0])\n",
        "#     plt.show()\n",
        "#     print(i)\n",
        "#     print(\"\")"
      ]
    },
    {
      "cell_type": "code",
      "execution_count": 23,
      "metadata": {
        "id": "wycLxhIXatwT",
        "colab": {
          "base_uri": "https://localhost:8080/"
        },
        "outputId": "969699b6-5f76-4213-bab9-edd8249cbe32"
      },
      "outputs": [
        {
          "output_type": "stream",
          "name": "stdout",
          "text": [
            "Looking in indexes: https://pypi.org/simple, https://us-python.pkg.dev/colab-wheels/public/simple/\n",
            "Requirement already satisfied: sewar in /usr/local/lib/python3.7/dist-packages (0.4.5)\n",
            "Requirement already satisfied: Pillow in /usr/local/lib/python3.7/dist-packages (from sewar) (7.1.2)\n",
            "Requirement already satisfied: scipy in /usr/local/lib/python3.7/dist-packages (from sewar) (1.7.3)\n",
            "Requirement already satisfied: numpy in /usr/local/lib/python3.7/dist-packages (from sewar) (1.21.6)\n"
          ]
        }
      ],
      "source": [
        "#@title Création de Network (CNN)\n",
        "# On définit les exécutions pour chaque couche de CNN\n",
        "\n",
        "%pip install sewar\n",
        "from sewar.full_ref import rmse\n",
        "\n",
        "class LeNet(nn.Module):\n",
        "    def __init__(self, n_classes=10, trois= X_val[0, 0][:, 28:], zero =  X_val[4, 0][:, :28]):\n",
        "        super().__init__()       \n",
        "        \n",
        "        self.conv1 = nn.Conv2d(1, 16, 5)\n",
        "        self.conv2 = nn.Conv2d(16, 32, 5)\n",
        "        self.fc1 = nn.Linear(32*11*4, 100)\n",
        "        self.fc2 = nn.Linear(100, n_classes)\n",
        "        self.flat = nn.Flatten()\n",
        "        self.trois = trois\n",
        "        self.zero = zero\n",
        "\n",
        "    # On définit les exécutions pour chaque kernel et chaque channel        \n",
        "    def forward(self, x):\n",
        "        mask = np.concatenate((np.zeros((28, 28)), np.ones((28, 28))), axis=1)\n",
        "        mask = torch.tensor([[mask]], device=device).int() \n",
        "        out = torch.masked_fill(x, mask, value=0 )\n",
        "        out = F.max_pool2d(F.relu(self.conv1(x)), (2, 2))\n",
        "        out = F.max_pool2d(F.relu(self.conv2(out)), 2)\n",
        "        out = self.flat(out)\n",
        "        out = F.relu(self.fc1(out))\n",
        "        x = F.dropout(x, training=self.training)\n",
        "        pred = self.fc2(out)\n",
        "        \n",
        "        return pred\n",
        "        \n",
        "net = LeNet().float()"
      ]
    },
    {
      "cell_type": "code",
      "execution_count": 24,
      "metadata": {
        "colab": {
          "referenced_widgets": [
            "ae70280c867d4a85ac9f86e91114b79e",
            "7000831fdf65450c802aded674c10154",
            "57c63bcf3596426dae19895a5b996750",
            "cad0e83444c24c3cb3ec1392dff2b42f",
            "01587a1390fb4bac8828c4d16932a9c3",
            "b084f3b68a91418784ede41ca2f196f5",
            "e5bdb9ad55e74aeab13c5bfec9ecfd95",
            "b755174390d444f0a971b624e5fd49d5",
            "1d191fe1864f46868bbdcf553de1e06c",
            "0e74dafe60394b26a3fbac842e68d456",
            "5758c1aa08554724aa01db169c53ea39"
          ],
          "base_uri": "https://localhost:8080/",
          "height": 408
        },
        "id": "jI2-QbHJatwZ",
        "outputId": "9ac0f585-71f3-4ec6-8b8e-a54263b8960c"
      },
      "outputs": [
        {
          "output_type": "display_data",
          "data": {
            "text/plain": [
              "  0%|          | 0/20 [00:00<?, ?it/s]"
            ],
            "application/vnd.jupyter.widget-view+json": {
              "version_major": 2,
              "version_minor": 0,
              "model_id": "ae70280c867d4a85ac9f86e91114b79e"
            }
          },
          "metadata": {}
        },
        {
          "output_type": "stream",
          "name": "stdout",
          "text": [
            "acc train: 0.43473451327433627 acc test: 0.4966887417218543\n",
            "acc train: 0.6714601769911505 acc test: 1.0\n",
            "acc train: 0.995575221238938 acc test: 1.0\n",
            "acc train: 0.995575221238938 acc test: 1.0\n",
            "acc train: 0.995575221238938 acc test: 1.0\n",
            "acc train: 0.995575221238938 acc test: 1.0\n",
            "acc train: 0.995575221238938 acc test: 1.0\n",
            "acc train: 0.995575221238938 acc test: 1.0\n",
            "acc train: 0.995575221238938 acc test: 1.0\n",
            "acc train: 0.995575221238938 acc test: 1.0\n",
            "acc train: 0.995575221238938 acc test: 1.0\n",
            "acc train: 0.995575221238938 acc test: 1.0\n",
            "acc train: 0.995575221238938 acc test: 1.0\n",
            "acc train: 0.995575221238938 acc test: 1.0\n",
            "acc train: 0.995575221238938 acc test: 1.0\n",
            "acc train: 0.995575221238938 acc test: 1.0\n",
            "acc train: 0.995575221238938 acc test: 1.0\n",
            "acc train: 0.995575221238938 acc test: 1.0\n",
            "acc train: 0.995575221238938 acc test: 1.0\n",
            "acc train: 0.995575221238938 acc test: 1.0\n"
          ]
        }
      ],
      "source": [
        "#@title Entraînement et test \n",
        "\n",
        "# Epoch, le nombre du fois qu'il appprend, ceci n'est pas pareil que le nombre du fois de l'itération for\n",
        "# criterion, loss function\n",
        "\n",
        "import pandas as pd\n",
        "\n",
        "tbatch = 100\n",
        "nb_epochs = 20\n",
        "\n",
        "nbbatchs = int(X_train.shape[0]/tbatch)\n",
        "\n",
        "criterion = nn.CrossEntropyLoss()\n",
        "optimizer = torch.optim.Adam(net.parameters(), lr=0.01)\n",
        "\n",
        "net.train()\n",
        "\n",
        "def evaluate(X_test):\n",
        "    net.eval()\n",
        "    with torch.no_grad():\n",
        "        y_pred = net(X_test)\n",
        "    correct_test = (torch.argmax(y_pred, axis=1) == y_test).sum().item()\n",
        "    net.train()\n",
        "    return correct_test/len(X_test)\n",
        "\n",
        "# Itération sur le dataset\n",
        "for epoch in tqdm(range(nb_epochs)):  \n",
        "    correct = 0\n",
        "    for i in (range(nbbatchs)):\n",
        "        \n",
        "        optimizer.zero_grad()\n",
        "        \n",
        "        X_batch = X_train[i*tbatch:(i+1)*tbatch]\n",
        "        y_batch = y_train[i*tbatch:(i+1)*tbatch]\n",
        "\n",
        "        # Compute forward / backward\n",
        "        y_pred = net(X_batch)\n",
        "        correct += (torch.argmax(y_pred, axis=1) == y_batch).sum().item()\n",
        "\n",
        "        loss = criterion(y_pred, y_batch)\n",
        "        \n",
        "\n",
        "        loss.backward()\n",
        "        optimizer.step()\n",
        "        # break\n",
        "    print(\"acc train:\", correct/X_train.shape[0], \"acc test:\", evaluate(X_test))"
      ]
    },
    {
      "cell_type": "code",
      "execution_count": null,
      "metadata": {
        "id": "53fJl9rWatwh"
      },
      "outputs": [],
      "source": [
        "#@title Traitement aux images afin d'enlever une ambiguité\n",
        "import matplotlib.pyplot as plt\n",
        "\n",
        "# for i in range(10):\n",
        "#     plt.imshow(X_val[i, 0])\n",
        "#     plt.show()\n",
        "#     print(i)\n",
        "#     print(\"\")\n",
        "\n",
        "# On remarque que dans les images de X_val, pour chaque X[i, 0] il y a toujours soit une image de 0 soit une image de 3 qui se répète\n",
        "# Par exemple, 0 à droite de X_val[0, 0] et 3 à droite de X_val[4, 0]\n",
        "trois = X_val[0, 0][:, 28:]\n",
        "zero = X_val[4, 0][:, :28]\n",
        "\n",
        "# On enlève donc l'image de soit 0 soit 3 qui se répète, et duplique l'autre image afin d'avoir une mailleure précision\n",
        "for i in range(21):\n",
        "    x1 = X_val[i, 0][:, :28]\n",
        "    x2 = X_val[i, 0][:, 28:]\n",
        "    if rmse(x1,trois) < 0.1 or rmse(x1,zero) < 0.1 :\n",
        "       mask = np.concatenate((x2,x2), axis=1)\n",
        "    else :\n",
        "       mask = np.concatenate((x1,x1), axis=1)\n",
        "       \n",
        "    mask = torch.tensor(mask, device=device)\n",
        "    x = torch.tensor(mask, device=device).float()\n",
        "    plt.imshow(x)\n",
        "    plt.show()\n",
        "    print(i)"
      ]
    },
    {
      "cell_type": "code",
      "source": [
        "#@title Visualiser les deux images qu'on doit enlever de chaque paire\n",
        "\n",
        "trois = X_val[11, 0][:, :28]\n",
        "zero= X_val[9, 0][:, :28]\n",
        "plt.imshow(trois)\n",
        "plt.show()\n",
        "plt.imshow(zero)\n",
        "plt.show()"
      ],
      "metadata": {
        "id": "2lSFm0D7ogTE"
      },
      "execution_count": null,
      "outputs": []
    },
    {
      "cell_type": "code",
      "source": [
        "#@title Prédire les labels de X_val\n",
        "# On pourra demander maximum 5 labels de X_val en utilisant API(le bloc de code tout en bas) pour les comparer\n",
        "# Si le résultat semble bon on pourra implenter le code\n",
        "\n",
        "X_target = torch.tensor(X_val, device=device).float()\n",
        "# net.eval()\n",
        "with torch.no_grad():\n",
        "  y_target = net(X_target)\n",
        "    \n",
        "pred_target = torch.argmax(y_target, dim=1)\n",
        "print(pred_target[0:21])"
      ],
      "metadata": {
        "colab": {
          "base_uri": "https://localhost:8080/"
        },
        "id": "46Ae6QA1rNrG",
        "outputId": "d4b64c1f-ab99-48dc-d75c-ba495768134e"
      },
      "execution_count": 31,
      "outputs": [
        {
          "output_type": "stream",
          "name": "stdout",
          "text": [
            "tensor([3, 3, 0, 3, 3, 3, 3, 0, 3, 0, 3, 3, 3, 3, 0, 3, 0, 0, 0, 3, 3])\n"
          ]
        }
      ]
    },
    {
      "cell_type": "code",
      "source": [
        "#@title Sauvegarder le résultat en tant que csv file\n",
        "\n",
        "print(pred_target.shape)\n",
        "pred_target = pred_target.numpy()\n",
        "df = pd.DataFrame(pred_target)\n",
        "df.to_csv(\"submission_02.csv\", header=False, index=False)"
      ],
      "metadata": {
        "colab": {
          "base_uri": "https://localhost:8080/"
        },
        "id": "9BufilsrrURz",
        "outputId": "79533028-9525-4175-a153-2934b5accfce"
      },
      "execution_count": 32,
      "outputs": [
        {
          "output_type": "stream",
          "name": "stdout",
          "text": [
            "torch.Size([1206])\n"
          ]
        }
      ]
    },
    {
      "cell_type": "code",
      "source": [
        "#@title Envoyer une demande afin de récuperer le label d'un X_val\n",
        "\n",
        "import requests\n",
        "import json\n",
        " \n",
        "res = requests.post(\"https://leaderboard42.herokuapp.com/reveal/\", data={\n",
        "        'username': 'SkynetV2.0',\n",
        "        'password': \"paristoulouse\",\n",
        "        'exercise_id': 4,\n",
        "        'datum_id': 7\n",
        "   })\n",
        " \n",
        "try:\n",
        "   res = json.loads(res.content)\n",
        "   print(res)\n",
        "except:\n",
        "    print(\"Error\")\n",
        "    print(res.content)\n",
        "\n",
        "# Cela retourne la réponse comme ceci\n",
        "# {'exercise_id': 3, 'datum_id': 456, 'label': 0, 'previously revealed': [12]}"
      ],
      "metadata": {
        "colab": {
          "base_uri": "https://localhost:8080/"
        },
        "id": "kk9Y2jcJrf2Q",
        "outputId": "28e78b4c-3205-42cd-a6b9-73bf696b1a0f"
      },
      "execution_count": 33,
      "outputs": [
        {
          "output_type": "stream",
          "name": "stdout",
          "text": [
            "Error\n",
            "b\"\\n\\n\\nUsage examples:\\n $ curl -F username=awesome_team -F password=secret_password -F exercise_id=3 -F datum_id=456 https://leaderboard42.herokuapp.com/reveal/\\n\\n >>> import requests\\n >>> requests.post(https://leaderboard42.herokuapp.com/reveal/, data={\\n         'username': 'awesome_team',\\n         'password': 'secret_password',\\n         'exercise_id': 3,\\n         'datum_id': 456\\n     })\\n\"\n"
          ]
        }
      ]
    }
  ],
  "metadata": {
    "interpreter": {
      "hash": "42b2a254b437d073428198f9d7f7f7b39e947fe8479260fb8edd61ecc9f401a1"
    },
    "kernelspec": {
      "display_name": "Python 3.7.13 ('hackathon42')",
      "language": "python",
      "name": "python3"
    },
    "language_info": {
      "codemirror_mode": {
        "name": "ipython",
        "version": 3
      },
      "file_extension": ".py",
      "mimetype": "text/x-python",
      "name": "python",
      "nbconvert_exporter": "python",
      "pygments_lexer": "ipython3",
      "version": "3.7.13"
    },
    "orig_nbformat": 4,
    "colab": {
      "provenance": [],
      "collapsed_sections": []
    },
    "widgets": {
      "application/vnd.jupyter.widget-state+json": {
        "ae70280c867d4a85ac9f86e91114b79e": {
          "model_module": "@jupyter-widgets/controls",
          "model_name": "HBoxModel",
          "model_module_version": "1.5.0",
          "state": {
            "_dom_classes": [],
            "_model_module": "@jupyter-widgets/controls",
            "_model_module_version": "1.5.0",
            "_model_name": "HBoxModel",
            "_view_count": null,
            "_view_module": "@jupyter-widgets/controls",
            "_view_module_version": "1.5.0",
            "_view_name": "HBoxView",
            "box_style": "",
            "children": [
              "IPY_MODEL_7000831fdf65450c802aded674c10154",
              "IPY_MODEL_57c63bcf3596426dae19895a5b996750",
              "IPY_MODEL_cad0e83444c24c3cb3ec1392dff2b42f"
            ],
            "layout": "IPY_MODEL_01587a1390fb4bac8828c4d16932a9c3"
          }
        },
        "7000831fdf65450c802aded674c10154": {
          "model_module": "@jupyter-widgets/controls",
          "model_name": "HTMLModel",
          "model_module_version": "1.5.0",
          "state": {
            "_dom_classes": [],
            "_model_module": "@jupyter-widgets/controls",
            "_model_module_version": "1.5.0",
            "_model_name": "HTMLModel",
            "_view_count": null,
            "_view_module": "@jupyter-widgets/controls",
            "_view_module_version": "1.5.0",
            "_view_name": "HTMLView",
            "description": "",
            "description_tooltip": null,
            "layout": "IPY_MODEL_b084f3b68a91418784ede41ca2f196f5",
            "placeholder": "​",
            "style": "IPY_MODEL_e5bdb9ad55e74aeab13c5bfec9ecfd95",
            "value": "100%"
          }
        },
        "57c63bcf3596426dae19895a5b996750": {
          "model_module": "@jupyter-widgets/controls",
          "model_name": "FloatProgressModel",
          "model_module_version": "1.5.0",
          "state": {
            "_dom_classes": [],
            "_model_module": "@jupyter-widgets/controls",
            "_model_module_version": "1.5.0",
            "_model_name": "FloatProgressModel",
            "_view_count": null,
            "_view_module": "@jupyter-widgets/controls",
            "_view_module_version": "1.5.0",
            "_view_name": "ProgressView",
            "bar_style": "success",
            "description": "",
            "description_tooltip": null,
            "layout": "IPY_MODEL_b755174390d444f0a971b624e5fd49d5",
            "max": 20,
            "min": 0,
            "orientation": "horizontal",
            "style": "IPY_MODEL_1d191fe1864f46868bbdcf553de1e06c",
            "value": 20
          }
        },
        "cad0e83444c24c3cb3ec1392dff2b42f": {
          "model_module": "@jupyter-widgets/controls",
          "model_name": "HTMLModel",
          "model_module_version": "1.5.0",
          "state": {
            "_dom_classes": [],
            "_model_module": "@jupyter-widgets/controls",
            "_model_module_version": "1.5.0",
            "_model_name": "HTMLModel",
            "_view_count": null,
            "_view_module": "@jupyter-widgets/controls",
            "_view_module_version": "1.5.0",
            "_view_name": "HTMLView",
            "description": "",
            "description_tooltip": null,
            "layout": "IPY_MODEL_0e74dafe60394b26a3fbac842e68d456",
            "placeholder": "​",
            "style": "IPY_MODEL_5758c1aa08554724aa01db169c53ea39",
            "value": " 20/20 [00:20&lt;00:00,  1.03s/it]"
          }
        },
        "01587a1390fb4bac8828c4d16932a9c3": {
          "model_module": "@jupyter-widgets/base",
          "model_name": "LayoutModel",
          "model_module_version": "1.2.0",
          "state": {
            "_model_module": "@jupyter-widgets/base",
            "_model_module_version": "1.2.0",
            "_model_name": "LayoutModel",
            "_view_count": null,
            "_view_module": "@jupyter-widgets/base",
            "_view_module_version": "1.2.0",
            "_view_name": "LayoutView",
            "align_content": null,
            "align_items": null,
            "align_self": null,
            "border": null,
            "bottom": null,
            "display": null,
            "flex": null,
            "flex_flow": null,
            "grid_area": null,
            "grid_auto_columns": null,
            "grid_auto_flow": null,
            "grid_auto_rows": null,
            "grid_column": null,
            "grid_gap": null,
            "grid_row": null,
            "grid_template_areas": null,
            "grid_template_columns": null,
            "grid_template_rows": null,
            "height": null,
            "justify_content": null,
            "justify_items": null,
            "left": null,
            "margin": null,
            "max_height": null,
            "max_width": null,
            "min_height": null,
            "min_width": null,
            "object_fit": null,
            "object_position": null,
            "order": null,
            "overflow": null,
            "overflow_x": null,
            "overflow_y": null,
            "padding": null,
            "right": null,
            "top": null,
            "visibility": null,
            "width": null
          }
        },
        "b084f3b68a91418784ede41ca2f196f5": {
          "model_module": "@jupyter-widgets/base",
          "model_name": "LayoutModel",
          "model_module_version": "1.2.0",
          "state": {
            "_model_module": "@jupyter-widgets/base",
            "_model_module_version": "1.2.0",
            "_model_name": "LayoutModel",
            "_view_count": null,
            "_view_module": "@jupyter-widgets/base",
            "_view_module_version": "1.2.0",
            "_view_name": "LayoutView",
            "align_content": null,
            "align_items": null,
            "align_self": null,
            "border": null,
            "bottom": null,
            "display": null,
            "flex": null,
            "flex_flow": null,
            "grid_area": null,
            "grid_auto_columns": null,
            "grid_auto_flow": null,
            "grid_auto_rows": null,
            "grid_column": null,
            "grid_gap": null,
            "grid_row": null,
            "grid_template_areas": null,
            "grid_template_columns": null,
            "grid_template_rows": null,
            "height": null,
            "justify_content": null,
            "justify_items": null,
            "left": null,
            "margin": null,
            "max_height": null,
            "max_width": null,
            "min_height": null,
            "min_width": null,
            "object_fit": null,
            "object_position": null,
            "order": null,
            "overflow": null,
            "overflow_x": null,
            "overflow_y": null,
            "padding": null,
            "right": null,
            "top": null,
            "visibility": null,
            "width": null
          }
        },
        "e5bdb9ad55e74aeab13c5bfec9ecfd95": {
          "model_module": "@jupyter-widgets/controls",
          "model_name": "DescriptionStyleModel",
          "model_module_version": "1.5.0",
          "state": {
            "_model_module": "@jupyter-widgets/controls",
            "_model_module_version": "1.5.0",
            "_model_name": "DescriptionStyleModel",
            "_view_count": null,
            "_view_module": "@jupyter-widgets/base",
            "_view_module_version": "1.2.0",
            "_view_name": "StyleView",
            "description_width": ""
          }
        },
        "b755174390d444f0a971b624e5fd49d5": {
          "model_module": "@jupyter-widgets/base",
          "model_name": "LayoutModel",
          "model_module_version": "1.2.0",
          "state": {
            "_model_module": "@jupyter-widgets/base",
            "_model_module_version": "1.2.0",
            "_model_name": "LayoutModel",
            "_view_count": null,
            "_view_module": "@jupyter-widgets/base",
            "_view_module_version": "1.2.0",
            "_view_name": "LayoutView",
            "align_content": null,
            "align_items": null,
            "align_self": null,
            "border": null,
            "bottom": null,
            "display": null,
            "flex": null,
            "flex_flow": null,
            "grid_area": null,
            "grid_auto_columns": null,
            "grid_auto_flow": null,
            "grid_auto_rows": null,
            "grid_column": null,
            "grid_gap": null,
            "grid_row": null,
            "grid_template_areas": null,
            "grid_template_columns": null,
            "grid_template_rows": null,
            "height": null,
            "justify_content": null,
            "justify_items": null,
            "left": null,
            "margin": null,
            "max_height": null,
            "max_width": null,
            "min_height": null,
            "min_width": null,
            "object_fit": null,
            "object_position": null,
            "order": null,
            "overflow": null,
            "overflow_x": null,
            "overflow_y": null,
            "padding": null,
            "right": null,
            "top": null,
            "visibility": null,
            "width": null
          }
        },
        "1d191fe1864f46868bbdcf553de1e06c": {
          "model_module": "@jupyter-widgets/controls",
          "model_name": "ProgressStyleModel",
          "model_module_version": "1.5.0",
          "state": {
            "_model_module": "@jupyter-widgets/controls",
            "_model_module_version": "1.5.0",
            "_model_name": "ProgressStyleModel",
            "_view_count": null,
            "_view_module": "@jupyter-widgets/base",
            "_view_module_version": "1.2.0",
            "_view_name": "StyleView",
            "bar_color": null,
            "description_width": ""
          }
        },
        "0e74dafe60394b26a3fbac842e68d456": {
          "model_module": "@jupyter-widgets/base",
          "model_name": "LayoutModel",
          "model_module_version": "1.2.0",
          "state": {
            "_model_module": "@jupyter-widgets/base",
            "_model_module_version": "1.2.0",
            "_model_name": "LayoutModel",
            "_view_count": null,
            "_view_module": "@jupyter-widgets/base",
            "_view_module_version": "1.2.0",
            "_view_name": "LayoutView",
            "align_content": null,
            "align_items": null,
            "align_self": null,
            "border": null,
            "bottom": null,
            "display": null,
            "flex": null,
            "flex_flow": null,
            "grid_area": null,
            "grid_auto_columns": null,
            "grid_auto_flow": null,
            "grid_auto_rows": null,
            "grid_column": null,
            "grid_gap": null,
            "grid_row": null,
            "grid_template_areas": null,
            "grid_template_columns": null,
            "grid_template_rows": null,
            "height": null,
            "justify_content": null,
            "justify_items": null,
            "left": null,
            "margin": null,
            "max_height": null,
            "max_width": null,
            "min_height": null,
            "min_width": null,
            "object_fit": null,
            "object_position": null,
            "order": null,
            "overflow": null,
            "overflow_x": null,
            "overflow_y": null,
            "padding": null,
            "right": null,
            "top": null,
            "visibility": null,
            "width": null
          }
        },
        "5758c1aa08554724aa01db169c53ea39": {
          "model_module": "@jupyter-widgets/controls",
          "model_name": "DescriptionStyleModel",
          "model_module_version": "1.5.0",
          "state": {
            "_model_module": "@jupyter-widgets/controls",
            "_model_module_version": "1.5.0",
            "_model_name": "DescriptionStyleModel",
            "_view_count": null,
            "_view_module": "@jupyter-widgets/base",
            "_view_module_version": "1.2.0",
            "_view_name": "StyleView",
            "description_width": ""
          }
        }
      }
    }
  },
  "nbformat": 4,
  "nbformat_minor": 0
}